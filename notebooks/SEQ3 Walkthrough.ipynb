{
 "cells": [
  {
   "cell_type": "code",
   "execution_count": 1,
   "id": "768e1286",
   "metadata": {},
   "outputs": [],
   "source": [
    "import argparse\n",
    "from argparse import ArgumentParser\n",
    "\n",
    "\n",
    "import datetime\n",
    "import os\n",
    "import numpy as np\n",
    "\n",
    "import torch\n",
    "import torch.utils.data\n",
    "from torch import nn\n",
    "from torch.nn import functional as F\n",
    "\n",
    "import pytorch_lightning as pl\n",
    "from pytorch_lightning.loggers import WandbLogger\n",
    "from pytorch_lightning.callbacks.early_stopping import EarlyStopping\n",
    "\n",
    "from gsae.utils import eval_metrics\n",
    "from gsae.data_processing.load_splits import load_seq3\n",
    "from gsae.models.gsae_model import GSAE\n",
    "\n",
    "from sklearn.decomposition import PCA\n",
    "import matplotlib.pyplot as plt\n",
    "\n",
    "\n",
    "%matplotlib inline"
   ]
  },
  {
   "cell_type": "markdown",
   "id": "01d1a02d",
   "metadata": {},
   "source": [
    "## 1. Import data"
   ]
  },
  {
   "cell_type": "markdown",
   "id": "67241a6f",
   "metadata": {},
   "source": [
    "Let's import the SEQ3 data. We can do this using load_seq3 function\n",
    "\n",
    "it will look for the data in 'data/final_data/' and return the following\n",
    "\n",
    "- **train_loader**: pytorch dataloader with training data\n",
    "- **train_tup**: tuple of train coefficients, adjacencies and energies\n",
    "- **test_tup**: tuple of test coefficients, adjacencies and energies\n"
   ]
  },
  {
   "cell_type": "code",
   "execution_count": 2,
   "id": "06374f33",
   "metadata": {},
   "outputs": [],
   "source": [
    "# train_loader: \n",
    "train_loader, train_tup, test_tup = load_seq3()"
   ]
  },
  {
   "cell_type": "code",
   "execution_count": 3,
   "id": "5d091706",
   "metadata": {},
   "outputs": [],
   "source": [
    "input_dim = train_tup[0].shape[-1]\n",
    "len_epoch = len(train_loader)"
   ]
  },
  {
   "cell_type": "markdown",
   "id": "bb539822",
   "metadata": {},
   "source": [
    "# 2. Load Model"
   ]
  },
  {
   "cell_type": "code",
   "execution_count": 4,
   "id": "72e9ee48",
   "metadata": {},
   "outputs": [],
   "source": [
    "# set up hyperparameters\n",
    "hparams = {\n",
    "    'input_dim':  input_dim,\n",
    "    'bottle_dim': 25,\n",
    "    'hidden_dim': 300,\n",
    "    \n",
    "    'len_epoch': len_epoch,\n",
    "    'learning_rate': 0.0001,\n",
    "    'max_epochs': 80,\n",
    "    'n_gpus': 0,\n",
    "    'batch_size': 100,\n",
    "    \n",
    "    'alpha':1.0,\n",
    "    'beta':0.0001,\n",
    "\n",
    "}"
   ]
  },
  {
   "cell_type": "code",
   "execution_count": 5,
   "id": "abc66034",
   "metadata": {},
   "outputs": [],
   "source": [
    "hparams = argparse.Namespace(**hparams)"
   ]
  },
  {
   "cell_type": "code",
   "execution_count": 6,
   "id": "cf68b1f7",
   "metadata": {},
   "outputs": [
    {
     "name": "stdout",
     "output_type": "stream",
     "text": [
      "\n",
      "beta val\n",
      "0.0001\n"
     ]
    }
   ],
   "source": [
    "model = GSAE(hparams)"
   ]
  },
  {
   "cell_type": "code",
   "execution_count": 7,
   "id": "614d6af1",
   "metadata": {},
   "outputs": [
    {
     "name": "stdout",
     "output_type": "stream",
     "text": [
      "GSAE(\n",
      "  (fc11): Linear(in_features=2560, out_features=400, bias=True)\n",
      "  (bn11): BatchNorm1d(400, eps=1e-05, momentum=0.1, affine=True, track_running_stats=True)\n",
      "  (fc12): Linear(in_features=400, out_features=400, bias=True)\n",
      "  (bn12): BatchNorm1d(400, eps=1e-05, momentum=0.1, affine=True, track_running_stats=True)\n",
      "  (fc21): Linear(in_features=400, out_features=25, bias=True)\n",
      "  (fc22): Linear(in_features=400, out_features=25, bias=True)\n",
      "  (fc3): Linear(in_features=25, out_features=400, bias=True)\n",
      "  (fc4): Linear(in_features=400, out_features=2560, bias=True)\n",
      "  (regfc1): Linear(in_features=25, out_features=20, bias=True)\n",
      "  (regfc2): Linear(in_features=20, out_features=1, bias=True)\n",
      ")\n"
     ]
    }
   ],
   "source": [
    "print(model)"
   ]
  },
  {
   "cell_type": "markdown",
   "id": "17f97f78",
   "metadata": {},
   "source": [
    "# 3. Train Model"
   ]
  },
  {
   "cell_type": "code",
   "execution_count": null,
   "id": "af01bbe5",
   "metadata": {
    "scrolled": false
   },
   "outputs": [
    {
     "name": "stderr",
     "output_type": "stream",
     "text": [
      "GPU available: False, used: False\n",
      "TPU available: False, using: 0 TPU cores\n",
      "/Users/ec_lab/opt/anaconda3/envs/gsae_env/lib/python3.9/site-packages/pytorch_lightning/utilities/distributed.py:45: UserWarning: you defined a validation_step but have no val_dataloader. Skipping validation loop\n",
      "  warnings.warn(*args, **kwargs)\n",
      "\n",
      "  | Name   | Type        | Params\n",
      "---------------------------------------\n",
      "0 | fc11   | Linear      | 1 M   \n",
      "1 | bn11   | BatchNorm1d | 800   \n",
      "2 | fc12   | Linear      | 160 K \n",
      "3 | bn12   | BatchNorm1d | 800   \n",
      "4 | fc21   | Linear      | 10 K  \n",
      "5 | fc22   | Linear      | 10 K  \n",
      "6 | fc3    | Linear      | 10 K  \n",
      "7 | fc4    | Linear      | 1 M   \n",
      "8 | regfc1 | Linear      | 520   \n",
      "9 | regfc2 | Linear      | 21    \n"
     ]
    },
    {
     "data": {
      "application/vnd.jupyter.widget-view+json": {
       "model_id": "",
       "version_major": 2,
       "version_minor": 0
      },
      "text/plain": [
       "Validation sanity check: 0it [00:00, ?it/s]"
      ]
     },
     "metadata": {},
     "output_type": "display_data"
    },
    {
     "name": "stderr",
     "output_type": "stream",
     "text": [
      "/Users/ec_lab/opt/anaconda3/envs/gsae_env/lib/python3.9/site-packages/pytorch_lightning/utilities/distributed.py:45: UserWarning: The dataloader, train dataloader, does not have many workers which may be a bottleneck. Consider increasing the value of the `num_workers` argument` (try 8 which is the number of cpus on this machine) in the `DataLoader` init to improve performance.\n",
      "  warnings.warn(*args, **kwargs)\n"
     ]
    },
    {
     "data": {
      "application/vnd.jupyter.widget-view+json": {
       "model_id": "88f298c56c0c40739a48036e46adc11e",
       "version_major": 2,
       "version_minor": 0
      },
      "text/plain": [
       "Training: 0it [00:00, ?it/s]"
      ]
     },
     "metadata": {},
     "output_type": "display_data"
    }
   ],
   "source": [
    "trainer = pl.Trainer.from_argparse_args(hparams,\n",
    "                                            max_epochs=hparams.max_epochs,\n",
    "                                             gpus=hparams.n_gpus,\n",
    "                                            )\n",
    "trainer.fit(model=model,\n",
    "            train_dataloader=train_loader,\n",
    "            )"
   ]
  },
  {
   "cell_type": "markdown",
   "id": "5fcccfc7",
   "metadata": {},
   "source": [
    "# 4. Get Embeddings"
   ]
  },
  {
   "cell_type": "code",
   "execution_count": null,
   "id": "ab310884",
   "metadata": {},
   "outputs": [],
   "source": [
    "with torch.no_grad():\n",
    "        train_embed = model.embed(train_tup[0])[0]\n",
    "        test_embed =  model.embed(test_tup[0])[0]"
   ]
  },
  {
   "cell_type": "code",
   "execution_count": null,
   "id": "fa3f2dda",
   "metadata": {},
   "outputs": [],
   "source": [
    "print(train_embed.shape)\n",
    "print(test_embed.shape)"
   ]
  },
  {
   "cell_type": "markdown",
   "id": "8553fcc0",
   "metadata": {},
   "source": [
    "# 5. Visualize"
   ]
  },
  {
   "cell_type": "code",
   "execution_count": null,
   "id": "975445dc",
   "metadata": {},
   "outputs": [],
   "source": [
    "pca_coords = PCA(n_components=2).fit_transform(train_embed)"
   ]
  },
  {
   "cell_type": "code",
   "execution_count": null,
   "id": "de15e1cd",
   "metadata": {},
   "outputs": [],
   "source": [
    "fig,ax = plt.subplots(figsize=(8,6))\n",
    "\n",
    "ax.scatter(pca_coords[:,0],\n",
    "          pca_coords[:,1],\n",
    "          c=train_tup[-1], \n",
    "          cmap='plasma')"
   ]
  },
  {
   "cell_type": "code",
   "execution_count": null,
   "id": "2b98cccb",
   "metadata": {},
   "outputs": [],
   "source": []
  },
  {
   "cell_type": "code",
   "execution_count": null,
   "id": "b810bbc8",
   "metadata": {},
   "outputs": [],
   "source": []
  },
  {
   "cell_type": "code",
   "execution_count": null,
   "id": "cca10f4a",
   "metadata": {},
   "outputs": [],
   "source": []
  },
  {
   "cell_type": "code",
   "execution_count": null,
   "id": "59d1cd9e",
   "metadata": {},
   "outputs": [],
   "source": []
  }
 ],
 "metadata": {
  "kernelspec": {
   "display_name": "gsae_env",
   "language": "python",
   "name": "gsae_env"
  },
  "language_info": {
   "codemirror_mode": {
    "name": "ipython",
    "version": 3
   },
   "file_extension": ".py",
   "mimetype": "text/x-python",
   "name": "python",
   "nbconvert_exporter": "python",
   "pygments_lexer": "ipython3",
   "version": "3.9.7"
  }
 },
 "nbformat": 4,
 "nbformat_minor": 5
}
